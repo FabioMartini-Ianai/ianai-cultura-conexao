{
  "nbformat": 4,
  "nbformat_minor": 0,
  "metadata": {
    "colab": {
      "provenance": []
    },
    "kernelspec": {
      "name": "python3",
      "display_name": "Python 3"
    },
    "language_info": {
      "name": "python"
    }
  },
  "cells": [
    {
      "cell_type": "code",
      "execution_count": null,
      "metadata": {
        "id": "7Yy5L7pnebzR"
      },
      "outputs": [],
      "source": []
    },
    {
      "cell_type": "markdown",
      "source": [
        "# Simulação Conceitual do \"Termômetro da Alma Corporativa IANAI\" (Chatbot Amigo)\n",
        "\n",
        "Este notebook apresenta um script Python muito simples para simular a interação básica do chatbot \"Termômetro da Alma\".\n",
        "O objetivo aqui não é criar uma Inteligência Artificial complexa, mas sim ilustrar o fluxo de conversa e o tipo de interação humanizada que a IANAI propõe.\n",
        "\n",
        "**Filosofia por trás da Simulação:**\n",
        "* **Acolhimento e Confiança:** As perguntas buscam criar um espaço seguro e amigável.\n",
        "* **Anonimato (Simulado):** Embora este script simples não implemente anonimato real, em uma versão completa, essa seria uma garantia sagrada.\n",
        "* **\"Acender as Luzes Devagar\":** Começamos com interações leves para construir a conexão.\n",
        "\n",
        "**Observação:** Os comentários no código Python abaixo explicam o que cada parte *faria* em uma implementação mais robusta e com IA real."
      ],
      "metadata": {
        "id": "wjik4jNLew_x"
      }
    },
    {
      "cell_type": "code",
      "source": [
        "# Simulação do Chatbot \"Termômetro da Alma IANAI\"\n",
        "# Versão conceitual para ilustrar a interação inicial\n",
        "\n",
        "def iniciar_conversa_termometro():\n",
        "    \"\"\"\n",
        "    Esta função simula o início da conversa do chatbot,\n",
        "    com perguntas leves para criar conexão e confiança.\n",
        "    \"\"\"\n",
        "    print(\"--- Bem-vindo(a) ao Termômetro da Alma IANAI ---\")\n",
        "    print(\"Lembre-se: este é um espaço seguro e suas respostas aqui são para reflexão.\")\n",
        "    print(\"Em uma versão real, suas respostas seriam 100% anônimas.\\n\")\n",
        "\n",
        "    # Pergunta 1: \"Olá, estou aqui!\"\n",
        "    print(\"Olá! Como as energias estão por aí hoje?\")\n",
        "    resposta_energia = input(\"Se pudesse resumir seu dia de trabalho até agora em uma palavra ou emoji, qual seria? (Ex: Tranquilo 🧘 / Produtivo ✨ / Um pouco agitado 🌪️): \")\n",
        "    # Em uma versão real, esta resposta seria processada (PLN) e armazenada anonimamente.\n",
        "    print(f\"Entendi, ' {resposta_energia} '. Obrigado por compartilhar!\\n\")\n",
        "\n",
        "    # Pergunta 2: \"Céu interior\"\n",
        "    print(\"Em uma escala de 1 (um dia bem cinzento ☁️) a 5 (um dia de sol radiante ☀️),\")\n",
        "    resposta_ceu = input(\"como você diria que está o seu céu interior no trabalho hoje? (Digite o número): \")\n",
        "    # Em uma versão real, validaríamos se é um número, armazenaríamos, etc.\n",
        "    # Também poderíamos oferecer botões em vez de texto livre para a escala.\n",
        "    print(f\"Anotado: seu céu interior está em nível ' {resposta_ceu} ' hoje. Isso é importante para nós.\\n\")\n",
        "\n",
        "    # Pergunta 3: \"Pequeno sorriso\"\n",
        "    print(\"Tem algo pequeno que te fez sorrir ou te trouxe uma sensação boa no trabalho recentemente, por menor que seja? 😊\")\n",
        "    resposta_sorriso = input(\"Pode ser qualquer coisinha: \")\n",
        "    # Em uma versão real, esta resposta qualitativa seria valiosa para entender pontos positivos.\n",
        "    print(f\"Que bom que compartilhou sobre ' {resposta_sorriso} '. Pequenos momentos assim fazem a diferença!\\n\")\n",
        "\n",
        "    print(\"--- Fim da simulação da conversa inicial ---\")\n",
        "    print(\"Em uma versão completa, o chatbot continuaria com outras perguntas reflexivas,\")\n",
        "    print(\"sempre com foco no seu bem-estar e na melhoria do ambiente para todos.\")\n",
        "\n",
        "# Para executar a simulação da conversa:\n",
        "if __name__ == \"__main__\":\n",
        "    iniciar_conversa_termometro()"
      ],
      "metadata": {
        "colab": {
          "base_uri": "https://localhost:8080/"
        },
        "id": "woa3tX4zfJds",
        "outputId": "81e7b60d-6527-4a34-ed73-20bc00d069d6"
      },
      "execution_count": null,
      "outputs": [
        {
          "output_type": "stream",
          "name": "stdout",
          "text": [
            "--- Bem-vindo(a) ao Termômetro da Alma IANAI ---\n",
            "Lembre-se: este é um espaço seguro e suas respostas aqui são para reflexão.\n",
            "Em uma versão real, suas respostas seriam 100% anônimas.\n",
            "\n",
            "Olá! Como as energias estão por aí hoje?\n"
          ]
        }
      ]
    },
    {
      "cell_type": "markdown",
      "source": [],
      "metadata": {
        "id": "PMXqEJmDf83V"
      }
    },
    {
      "cell_type": "markdown",
      "source": [
        "---\n",
        "### Observações sobre esta Simulação e Próximos Passos Conceituais\n",
        "\n",
        "* **Simplicidade Intencional:** Este script é uma representação conceitual e minimalista. Uma implementação real envolveria:\n",
        "    * Uma plataforma de chatbot (como Dialogflow, Rasa, ou APIs de LLMs como a do Gemini).\n",
        "    * Lógica de Processamento de Linguagem Natural (PLN) para entender respostas mais abertas.\n",
        "    * Um banco de dados seguro e anônimo para armazenar as respostas agregadas.\n",
        "    * Interface gráfica ou integração com plataformas de comunicação (Slack, Teams, WhatsApp, etc.).\n",
        "* **Evolução das Perguntas:** As perguntas evoluiriam para cobrir outros aspectos importantes (conexão com a liderança, propósito, bem-estar, como vimos no nosso documento `chatbot_termometro_alma.md`).\n",
        "* **Foco no \"Acender as Luzes Devagar\":** A sequência e o tom das perguntas seriam cuidadosamente desenhados para construir confiança e profundidade gradualmente.\n",
        "\n",
        "**Próximos passos para um protótipo real (conceitual):**\n",
        "1.  Definição detalhada do fluxo de todas as perguntas e lógicas de ramificação.\n",
        "2.  Escolha da plataforma/tecnologia de chatbot.\n",
        "3.  Desenvolvimento de um protótipo interativo com as primeiras interações.\n",
        "4.  Testes iniciais com um grupo pequeno para coletar feedback sobre a experiência do usuário e a clareza das perguntas."
      ],
      "metadata": {
        "id": "U7pbxzc9f9j6"
      }
    }
  ]
}